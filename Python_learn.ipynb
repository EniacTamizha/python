{
  "nbformat": 4,
  "nbformat_minor": 0,
  "metadata": {
    "colab": {
      "provenance": [],
      "authorship_tag": "ABX9TyNp6b6A8rLHENYTcMspAeUS",
      "include_colab_link": true
    },
    "kernelspec": {
      "name": "python3",
      "display_name": "Python 3"
    },
    "language_info": {
      "name": "python"
    }
  },
  "cells": [
    {
      "cell_type": "markdown",
      "metadata": {
        "id": "view-in-github",
        "colab_type": "text"
      },
      "source": [
        "<a href=\"https://colab.research.google.com/github/EniacTamizha/python/blob/main/Python_learn.ipynb\" target=\"_parent\"><img src=\"https://colab.research.google.com/assets/colab-badge.svg\" alt=\"Open In Colab\"/></a>"
      ]
    },
    {
      "cell_type": "code",
      "execution_count": 2,
      "metadata": {
        "colab": {
          "base_uri": "https://localhost:8080/"
        },
        "id": "rLkG7IfCexAv",
        "outputId": "d6222b07-ba73-4b88-a0ed-1d823fefb9c1"
      },
      "outputs": [
        {
          "output_type": "stream",
          "name": "stdout",
          "text": [
            "true\n"
          ]
        }
      ],
      "source": [
        "if 2>8:\n",
        "  print(\"False\")\n",
        "else:\n",
        "    print(\"true\")"
      ]
    },
    {
      "cell_type": "code",
      "source": [
        "A = int(input(\"Enter your age :\"))\n",
        "if A >18:\n",
        "  print(\"Eligible for voting\")\n",
        "else :\n",
        "  print(\"you are not eligible for voting\")  \n",
        "  "
      ],
      "metadata": {
        "colab": {
          "base_uri": "https://localhost:8080/"
        },
        "id": "3VrkWL8o4n4L",
        "outputId": "7ff14668-ba03-4c4f-92c8-51d555aaab40"
      },
      "execution_count": 5,
      "outputs": [
        {
          "output_type": "stream",
          "name": "stdout",
          "text": [
            "Enter your age :12\n",
            "you are not eligible for voting\n"
          ]
        }
      ]
    },
    {
      "cell_type": "code",
      "source": [
        "A = int(input(\"Enter the number :\"))\n",
        "if A%2==0 :\n",
        "  print(\"Entered number is Even.\")\n",
        "else :\n",
        "  print(\"Entered number is odd.\")  "
      ],
      "metadata": {
        "colab": {
          "base_uri": "https://localhost:8080/"
        },
        "id": "pgmfl2Vt5C_E",
        "outputId": "521426ac-966c-4346-a55e-ecf010d22102"
      },
      "execution_count": 7,
      "outputs": [
        {
          "output_type": "stream",
          "name": "stdout",
          "text": [
            "Enter the number :12\n",
            "Entered number is Even.\n"
          ]
        }
      ]
    }
  ]
}